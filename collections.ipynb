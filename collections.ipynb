{
 "cells": [
  {
   "cell_type": "code",
   "execution_count": 34,
   "metadata": {},
   "outputs": [],
   "source": [
    "from collections import ChainMap, Counter,deque, defaultdict, namedtuple, OrderedDict"
   ]
  },
  {
   "cell_type": "markdown",
   "metadata": {},
   "source": [
    "### 1.ChainMap"
   ]
  },
  {
   "cell_type": "code",
   "execution_count": 68,
   "metadata": {},
   "outputs": [
    {
     "data": {
      "text/plain": [
       "ChainMap({'art': 'van gogh', 'opera': 'carmen'}, {'music': 'bach', 'art': 'rembrandt'})"
      ]
     },
     "execution_count": 68,
     "metadata": {},
     "output_type": "execute_result"
    }
   ],
   "source": [
    "baseline = {'music': 'bach', 'art': 'rembrandt'}\n",
    "adjustments = {'art': 'van gogh', 'opera': 'carmen'}\n",
    "map = ChainMap(adjustments, baseline)\n",
    "map"
   ]
  },
  {
   "cell_type": "code",
   "execution_count": 70,
   "metadata": {},
   "outputs": [
    {
     "data": {
      "text/plain": [
       "('art', 'opera')"
      ]
     },
     "execution_count": 70,
     "metadata": {},
     "output_type": "execute_result"
    }
   ],
   "source": [
    "baseline = {'music': 'bach', 'art': 'rembrandt'}\n",
    "adjustments = ('art', 'opera')\n",
    "map1 = ChainMap(adjustments, baseline)\n",
    "map1.maps[0]"
   ]
  },
  {
   "cell_type": "code",
   "execution_count": 12,
   "metadata": {},
   "outputs": [
    {
     "name": "stdout",
     "output_type": "stream",
     "text": [
      "ChainMap(('art', 'opera'), {'music': 'bach', 'art': 'rembrandt'})\n",
      "(1, 2, 3)\n"
     ]
    }
   ],
   "source": [
    "d = map1.new_child((1,2,3))\n",
    "print(d.parents)\n",
    "print(d.maps[0])"
   ]
  },
  {
   "cell_type": "markdown",
   "metadata": {},
   "source": [
    "### 2.Counter"
   ]
  },
  {
   "cell_type": "code",
   "execution_count": 3,
   "metadata": {},
   "outputs": [],
   "source": [
    "c = Counter(a =3, b = 7)\n",
    "d = Counter(a = 3, c = 5)"
   ]
  },
  {
   "cell_type": "code",
   "execution_count": 8,
   "metadata": {},
   "outputs": [
    {
     "name": "stdout",
     "output_type": "stream",
     "text": [
      "Counter({'b': 7, 'a': 6, 'c': 5})\n",
      "Counter({'b': 7})\n",
      "Counter({'a': 3})\n",
      "Counter({'b': 7, 'c': 5, 'a': 3})\n",
      "Counter({'b': 7})\n",
      "Counter({'b': 7, 'a': 6, 'c': 5})\n",
      "Counter({'b': 7, 'a': 3})\n",
      "Counter()\n"
     ]
    }
   ],
   "source": [
    "print(c + d) \n",
    "print(c - d)\n",
    "print(c & d)\n",
    "print(c | d )\n",
    "print(c - d)\n",
    "print(c + d)\n",
    "print(+c)"
   ]
  },
  {
   "cell_type": "markdown",
   "metadata": {},
   "source": [
    "### 3.deque"
   ]
  },
  {
   "cell_type": "code",
   "execution_count": 20,
   "metadata": {},
   "outputs": [
    {
     "name": "stdout",
     "output_type": "stream",
     "text": [
      "['r', 'j', 'i', 'h', 'g']\n",
      "deque(['g', 'h', 'i', 'j', 'r'])\n",
      "deque(['r', 'g', 'h', 'i', 'j'])\n",
      "deque(['g', 'h', 'i', 'j', 'r'])\n",
      "deque(['g', 'h', 'i', 'j', 'r'])\n",
      "1\n"
     ]
    }
   ],
   "source": [
    "d = deque('ghi')\n",
    "d.append('j')\n",
    "d.append('r')\n",
    "print(list(reversed(d)))\n",
    "print(d)\n",
    "d.rotate(1)\n",
    "print(d)\n",
    "d.rotate(-1)\n",
    "print(d)\n",
    "e = d.copy()\n",
    "print(e)\n",
    "f = e.count('j')\n",
    "print(f)"
   ]
  },
  {
   "cell_type": "code",
   "execution_count": 25,
   "metadata": {},
   "outputs": [
    {
     "name": "stdout",
     "output_type": "stream",
     "text": [
      "deque(['EVQLVESGGGLVQPGGSLRLSCAASGFTFSSSSIHWVRQAPGKGLEWVASISSSSGSTSYADSVKGRFTISADTSKNTAYLQMNSLRAEDTAVYYCARMSVENHWYYFYWYMSPYAMDYWGQGTLVTV\\n', '>8TTF_3|Chain C[auth D]|Light Chain of FabDA1 Variable Domain|Homo sapiens (9606)\\n', 'IQMTQSPSSLSASVGDRVTITCRASQSVSSAVAWYQQKPGKAPKLLIYSASSLYSGVPSRFSGSRSGTDFTLTISSLQPEDFATYYCQQSSSSLITFGQGTKVEI'], maxlen=3)\n"
     ]
    }
   ],
   "source": [
    "with open('.\\8TTF.fasta','r') as fl:\n",
    "    f = deque(fl,3)\n",
    "print(f)"
   ]
  },
  {
   "cell_type": "code",
   "execution_count": 37,
   "metadata": {},
   "outputs": [],
   "source": [
    "def roundrobin(*iterables):\n",
    "    \"roundrobin('ABC', 'D', 'EF') --> A D E B F C\"\n",
    "    iterators = deque(map(iter, iterables))\n",
    "    while iterators:\n",
    "        try:\n",
    "            while True:\n",
    "                yield next(iterators[0])\n",
    "                iterators.rotate(-1)\n",
    "        except StopIteration:\n",
    "            # Remove an exhausted iterator.\n",
    "            iterators.popleft()"
   ]
  },
  {
   "cell_type": "code",
   "execution_count": 39,
   "metadata": {},
   "outputs": [
    {
     "name": "stdout",
     "output_type": "stream",
     "text": [
      "A\n",
      "G\n",
      "D\n",
      "H\n",
      "E\n"
     ]
    },
    {
     "ename": "StopIteration",
     "evalue": "",
     "output_type": "error",
     "traceback": [
      "\u001b[1;31m---------------------------------------------------------------------------\u001b[0m",
      "\u001b[1;31mStopIteration\u001b[0m                             Traceback (most recent call last)",
      "Input \u001b[1;32mIn [39]\u001b[0m, in \u001b[0;36m<cell line: 7>\u001b[1;34m()\u001b[0m\n\u001b[0;32m      5\u001b[0m \u001b[38;5;28mprint\u001b[39m(\u001b[38;5;28mnext\u001b[39m(r))\n\u001b[0;32m      6\u001b[0m \u001b[38;5;28mprint\u001b[39m(\u001b[38;5;28mnext\u001b[39m(r))\n\u001b[1;32m----> 7\u001b[0m \u001b[38;5;28mprint\u001b[39m(\u001b[38;5;28;43mnext\u001b[39;49m\u001b[43m(\u001b[49m\u001b[43mr\u001b[49m\u001b[43m)\u001b[49m)\n",
      "\u001b[1;31mStopIteration\u001b[0m: "
     ]
    }
   ],
   "source": [
    "r = roundrobin('ADE', 'GH')\n",
    "print(next(r))\n",
    "print(next(r))\n",
    "print(next(r))\n",
    "print(next(r))\n",
    "print(next(r))\n",
    "print(next(r))"
   ]
  },
  {
   "cell_type": "markdown",
   "metadata": {},
   "source": [
    "### 3.defaultdict\n",
    "Dictionary in python now can also set default value based on key\n",
    "\n",
    "defaultdict can set default value for all keys"
   ]
  },
  {
   "cell_type": "code",
   "execution_count": 25,
   "metadata": {},
   "outputs": [
    {
     "data": {
      "text/plain": [
       "{'table_0': False}"
      ]
     },
     "execution_count": 25,
     "metadata": {},
     "output_type": "execute_result"
    }
   ],
   "source": [
    "library = dict()\n",
    "library.setdefault('table_0', False)\n",
    "library"
   ]
  },
  {
   "cell_type": "code",
   "execution_count": 26,
   "metadata": {},
   "outputs": [
    {
     "name": "stdout",
     "output_type": "stream",
     "text": [
      "<missing>\n",
      "<missing>\n"
     ]
    }
   ],
   "source": [
    "def constant_factory(value):\n",
    "    return lambda: value\n",
    "\n",
    "d = defaultdict(constant_factory('<missing>'))\n",
    "d.update(name='John', action='ran')\n",
    "print(d['new'])\n",
    "print(d['false'])"
   ]
  },
  {
   "cell_type": "markdown",
   "metadata": {},
   "source": [
    "### 4.namedtuple"
   ]
  },
  {
   "cell_type": "code",
   "execution_count": 3,
   "metadata": {},
   "outputs": [
    {
     "data": {
      "text/plain": [
       "Coor(x=12, y=13, z=14)"
      ]
     },
     "execution_count": 3,
     "metadata": {},
     "output_type": "execute_result"
    }
   ],
   "source": [
    "coordinates = namedtuple('Coor', ('x', 'y', 'z'))\n",
    "C = coordinates(12,13,14)\n",
    "C"
   ]
  },
  {
   "cell_type": "code",
   "execution_count": 7,
   "metadata": {},
   "outputs": [
    {
     "name": "stdout",
     "output_type": "stream",
     "text": [
      "Coor(x=13, y=34, z=45)\n",
      "{'x': 12, 'y': 13, 'z': 14}\n",
      "Coor(x=25, y=13, z=14)\n",
      "('x', 'y', 'z')\n"
     ]
    }
   ],
   "source": [
    "template = [13,34,45]\n",
    "coor = coordinates._make(template)\n",
    "print(coor)\n",
    "print(C._asdict())\n",
    "print(C._replace(x = 25))\n",
    "print(C._fields)"
   ]
  },
  {
   "cell_type": "code",
   "execution_count": 22,
   "metadata": {},
   "outputs": [
    {
     "name": "stdout",
     "output_type": "stream",
     "text": [
      "{'balance_in': 1, 'balance_out': 2}\n",
      "Account(type='premium', balance_in=1, balance_out=2)\n",
      "_tuplegetter(1, 'Alias for field number 1')\n"
     ]
    }
   ],
   "source": [
    "Account = namedtuple('Account', ['type','balance_in', 'balance_out'], defaults = [1,2])\n",
    "print(Account._field_defaults)\n",
    "print(Account('premium'))\n",
    "s = getattr(Account, 'balance_in')\n",
    "print(s)"
   ]
  },
  {
   "cell_type": "markdown",
   "metadata": {},
   "source": [
    "### 5. OrderedDict\n",
    "dictionary now order their elements in insertion order "
   ]
  },
  {
   "cell_type": "code",
   "execution_count": 38,
   "metadata": {},
   "outputs": [
    {
     "name": "stdout",
     "output_type": "stream",
     "text": [
      "{'x': 3, 'y': 4, 'z': 8, 'a': 6}\n"
     ]
    },
    {
     "data": {
      "text/plain": [
       "['a', 'z', 'y', 'x']"
      ]
     },
     "execution_count": 38,
     "metadata": {},
     "output_type": "execute_result"
    }
   ],
   "source": [
    "x = dict(x= 3, y=4)\n",
    "x.update(z = 8)\n",
    "x.update(a = 6)\n",
    "print(x)\n",
    "list(reversed(x.keys()))\n"
   ]
  },
  {
   "cell_type": "code",
   "execution_count": 46,
   "metadata": {},
   "outputs": [
    {
     "name": "stdout",
     "output_type": "stream",
     "text": [
      "odict_items([('x', 35), ('y', 23), ('c', 24), ('s', 53), ('r', 78)])\n",
      "OrderedDict([('y', 23), ('c', 24), ('x', 35), ('s', 53), ('r', 78)])\n",
      "OrderedDict([('c', 24), ('x', 35), ('s', 53), ('r', 78)])\n"
     ]
    }
   ],
   "source": [
    "x = OrderedDict([('x',35), ('y',23), ('c', 24), ('s', 53), ('r', 78)])\n",
    "print(x.items())\n",
    "for key, _ in sorted(x.items(), key=lambda item: item[1]):\n",
    "    x.move_to_end(key,last = True)\n",
    "print(x)\n",
    "x.popitem(last = False)\n",
    "print(x)"
   ]
  },
  {
   "cell_type": "code",
   "execution_count": 50,
   "metadata": {},
   "outputs": [
    {
     "name": "stdout",
     "output_type": "stream",
     "text": [
      "{'sum': <function <lambda> at 0x0000024EC531FDC0>}\n",
      "190\n"
     ]
    }
   ],
   "source": [
    "x.sum = lambda: sum(x.values())\n",
    "print(vars(x))\n",
    "print(x.sum())"
   ]
  },
  {
   "cell_type": "code",
   "execution_count": null,
   "metadata": {},
   "outputs": [],
   "source": []
  }
 ],
 "metadata": {
  "kernelspec": {
   "display_name": "base",
   "language": "python",
   "name": "python3"
  },
  "language_info": {
   "codemirror_mode": {
    "name": "ipython",
    "version": 3
   },
   "file_extension": ".py",
   "mimetype": "text/x-python",
   "name": "python",
   "nbconvert_exporter": "python",
   "pygments_lexer": "ipython3",
   "version": "3.9.12"
  }
 },
 "nbformat": 4,
 "nbformat_minor": 2
}
